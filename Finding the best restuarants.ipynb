{
 "cells": [
  {
   "cell_type": "markdown",
   "metadata": {},
   "source": [
    "##  Exploring the ratings of restaurants in India\n",
    "\n",
    "Zomato is a restaurant reviews aggregator site which provides a platform for restaurant goers to review various restaurants they have visited. This data has been obtained from Kaggle datasets. \n",
    "\n"
   ]
  },
  {
   "cell_type": "code",
   "execution_count": 108,
   "metadata": {
    "collapsed": true
   },
   "outputs": [],
   "source": [
    "import numpy\n",
    "import pandas as pd\n",
    "import matplotlib.pyplot as plt\n",
    "import seaborn as sns\n",
    "%matplotlib inline"
   ]
  },
  {
   "cell_type": "markdown",
   "metadata": {},
   "source": [
    "## Exploring the Data"
   ]
  },
  {
   "cell_type": "code",
   "execution_count": 109,
   "metadata": {
    "collapsed": true
   },
   "outputs": [],
   "source": [
    "data = pd.read_csv('zomato.csv', encoding = \"ISO-8859-1\")"
   ]
  },
  {
   "cell_type": "code",
   "execution_count": 110,
   "metadata": {},
   "outputs": [
    {
     "data": {
      "text/html": [
       "<div>\n",
       "<style scoped>\n",
       "    .dataframe tbody tr th:only-of-type {\n",
       "        vertical-align: middle;\n",
       "    }\n",
       "\n",
       "    .dataframe tbody tr th {\n",
       "        vertical-align: top;\n",
       "    }\n",
       "\n",
       "    .dataframe thead th {\n",
       "        text-align: right;\n",
       "    }\n",
       "</style>\n",
       "<table border=\"1\" class=\"dataframe\">\n",
       "  <thead>\n",
       "    <tr style=\"text-align: right;\">\n",
       "      <th></th>\n",
       "      <th>Restaurant ID</th>\n",
       "      <th>Country Code</th>\n",
       "      <th>Longitude</th>\n",
       "      <th>Latitude</th>\n",
       "      <th>Average Cost for two</th>\n",
       "      <th>Price range</th>\n",
       "      <th>Aggregate rating</th>\n",
       "      <th>Votes</th>\n",
       "    </tr>\n",
       "  </thead>\n",
       "  <tbody>\n",
       "    <tr>\n",
       "      <th>count</th>\n",
       "      <td>9.551000e+03</td>\n",
       "      <td>9551.000000</td>\n",
       "      <td>9551.000000</td>\n",
       "      <td>9551.000000</td>\n",
       "      <td>9551.000000</td>\n",
       "      <td>9551.000000</td>\n",
       "      <td>9551.000000</td>\n",
       "      <td>9551.000000</td>\n",
       "    </tr>\n",
       "    <tr>\n",
       "      <th>mean</th>\n",
       "      <td>9.051128e+06</td>\n",
       "      <td>18.365616</td>\n",
       "      <td>64.126574</td>\n",
       "      <td>25.854381</td>\n",
       "      <td>1199.210763</td>\n",
       "      <td>1.804837</td>\n",
       "      <td>2.666370</td>\n",
       "      <td>156.909748</td>\n",
       "    </tr>\n",
       "    <tr>\n",
       "      <th>std</th>\n",
       "      <td>8.791521e+06</td>\n",
       "      <td>56.750546</td>\n",
       "      <td>41.467058</td>\n",
       "      <td>11.007935</td>\n",
       "      <td>16121.183073</td>\n",
       "      <td>0.905609</td>\n",
       "      <td>1.516378</td>\n",
       "      <td>430.169145</td>\n",
       "    </tr>\n",
       "    <tr>\n",
       "      <th>min</th>\n",
       "      <td>5.300000e+01</td>\n",
       "      <td>1.000000</td>\n",
       "      <td>-157.948486</td>\n",
       "      <td>-41.330428</td>\n",
       "      <td>0.000000</td>\n",
       "      <td>1.000000</td>\n",
       "      <td>0.000000</td>\n",
       "      <td>0.000000</td>\n",
       "    </tr>\n",
       "    <tr>\n",
       "      <th>25%</th>\n",
       "      <td>3.019625e+05</td>\n",
       "      <td>1.000000</td>\n",
       "      <td>77.081343</td>\n",
       "      <td>28.478713</td>\n",
       "      <td>250.000000</td>\n",
       "      <td>1.000000</td>\n",
       "      <td>2.500000</td>\n",
       "      <td>5.000000</td>\n",
       "    </tr>\n",
       "    <tr>\n",
       "      <th>50%</th>\n",
       "      <td>6.004089e+06</td>\n",
       "      <td>1.000000</td>\n",
       "      <td>77.191964</td>\n",
       "      <td>28.570469</td>\n",
       "      <td>400.000000</td>\n",
       "      <td>2.000000</td>\n",
       "      <td>3.200000</td>\n",
       "      <td>31.000000</td>\n",
       "    </tr>\n",
       "    <tr>\n",
       "      <th>75%</th>\n",
       "      <td>1.835229e+07</td>\n",
       "      <td>1.000000</td>\n",
       "      <td>77.282006</td>\n",
       "      <td>28.642758</td>\n",
       "      <td>700.000000</td>\n",
       "      <td>2.000000</td>\n",
       "      <td>3.700000</td>\n",
       "      <td>131.000000</td>\n",
       "    </tr>\n",
       "    <tr>\n",
       "      <th>max</th>\n",
       "      <td>1.850065e+07</td>\n",
       "      <td>216.000000</td>\n",
       "      <td>174.832089</td>\n",
       "      <td>55.976980</td>\n",
       "      <td>800000.000000</td>\n",
       "      <td>4.000000</td>\n",
       "      <td>4.900000</td>\n",
       "      <td>10934.000000</td>\n",
       "    </tr>\n",
       "  </tbody>\n",
       "</table>\n",
       "</div>"
      ],
      "text/plain": [
       "       Restaurant ID  Country Code    Longitude     Latitude  \\\n",
       "count   9.551000e+03   9551.000000  9551.000000  9551.000000   \n",
       "mean    9.051128e+06     18.365616    64.126574    25.854381   \n",
       "std     8.791521e+06     56.750546    41.467058    11.007935   \n",
       "min     5.300000e+01      1.000000  -157.948486   -41.330428   \n",
       "25%     3.019625e+05      1.000000    77.081343    28.478713   \n",
       "50%     6.004089e+06      1.000000    77.191964    28.570469   \n",
       "75%     1.835229e+07      1.000000    77.282006    28.642758   \n",
       "max     1.850065e+07    216.000000   174.832089    55.976980   \n",
       "\n",
       "       Average Cost for two  Price range  Aggregate rating         Votes  \n",
       "count           9551.000000  9551.000000       9551.000000   9551.000000  \n",
       "mean            1199.210763     1.804837          2.666370    156.909748  \n",
       "std            16121.183073     0.905609          1.516378    430.169145  \n",
       "min                0.000000     1.000000          0.000000      0.000000  \n",
       "25%              250.000000     1.000000          2.500000      5.000000  \n",
       "50%              400.000000     2.000000          3.200000     31.000000  \n",
       "75%              700.000000     2.000000          3.700000    131.000000  \n",
       "max           800000.000000     4.000000          4.900000  10934.000000  "
      ]
     },
     "execution_count": 110,
     "metadata": {},
     "output_type": "execute_result"
    }
   ],
   "source": [
    "data.describe()"
   ]
  },
  {
   "cell_type": "code",
   "execution_count": 111,
   "metadata": {},
   "outputs": [
    {
     "data": {
      "text/html": [
       "<div>\n",
       "<style scoped>\n",
       "    .dataframe tbody tr th:only-of-type {\n",
       "        vertical-align: middle;\n",
       "    }\n",
       "\n",
       "    .dataframe tbody tr th {\n",
       "        vertical-align: top;\n",
       "    }\n",
       "\n",
       "    .dataframe thead th {\n",
       "        text-align: right;\n",
       "    }\n",
       "</style>\n",
       "<table border=\"1\" class=\"dataframe\">\n",
       "  <thead>\n",
       "    <tr style=\"text-align: right;\">\n",
       "      <th></th>\n",
       "      <th>Restaurant ID</th>\n",
       "      <th>Restaurant Name</th>\n",
       "      <th>Country Code</th>\n",
       "      <th>City</th>\n",
       "      <th>Address</th>\n",
       "      <th>Locality</th>\n",
       "      <th>Locality Verbose</th>\n",
       "      <th>Longitude</th>\n",
       "      <th>Latitude</th>\n",
       "      <th>Cuisines</th>\n",
       "      <th>...</th>\n",
       "      <th>Currency</th>\n",
       "      <th>Has Table booking</th>\n",
       "      <th>Has Online delivery</th>\n",
       "      <th>Is delivering now</th>\n",
       "      <th>Switch to order menu</th>\n",
       "      <th>Price range</th>\n",
       "      <th>Aggregate rating</th>\n",
       "      <th>Rating color</th>\n",
       "      <th>Rating text</th>\n",
       "      <th>Votes</th>\n",
       "    </tr>\n",
       "  </thead>\n",
       "  <tbody>\n",
       "    <tr>\n",
       "      <th>0</th>\n",
       "      <td>6317637</td>\n",
       "      <td>Le Petit Souffle</td>\n",
       "      <td>162</td>\n",
       "      <td>Makati City</td>\n",
       "      <td>Third Floor, Century City Mall, Kalayaan Avenu...</td>\n",
       "      <td>Century City Mall, Poblacion, Makati City</td>\n",
       "      <td>Century City Mall, Poblacion, Makati City, Mak...</td>\n",
       "      <td>121.027535</td>\n",
       "      <td>14.565443</td>\n",
       "      <td>French, Japanese, Desserts</td>\n",
       "      <td>...</td>\n",
       "      <td>Botswana Pula(P)</td>\n",
       "      <td>Yes</td>\n",
       "      <td>No</td>\n",
       "      <td>No</td>\n",
       "      <td>No</td>\n",
       "      <td>3</td>\n",
       "      <td>4.8</td>\n",
       "      <td>Dark Green</td>\n",
       "      <td>Excellent</td>\n",
       "      <td>314</td>\n",
       "    </tr>\n",
       "    <tr>\n",
       "      <th>1</th>\n",
       "      <td>6304287</td>\n",
       "      <td>Izakaya Kikufuji</td>\n",
       "      <td>162</td>\n",
       "      <td>Makati City</td>\n",
       "      <td>Little Tokyo, 2277 Chino Roces Avenue, Legaspi...</td>\n",
       "      <td>Little Tokyo, Legaspi Village, Makati City</td>\n",
       "      <td>Little Tokyo, Legaspi Village, Makati City, Ma...</td>\n",
       "      <td>121.014101</td>\n",
       "      <td>14.553708</td>\n",
       "      <td>Japanese</td>\n",
       "      <td>...</td>\n",
       "      <td>Botswana Pula(P)</td>\n",
       "      <td>Yes</td>\n",
       "      <td>No</td>\n",
       "      <td>No</td>\n",
       "      <td>No</td>\n",
       "      <td>3</td>\n",
       "      <td>4.5</td>\n",
       "      <td>Dark Green</td>\n",
       "      <td>Excellent</td>\n",
       "      <td>591</td>\n",
       "    </tr>\n",
       "    <tr>\n",
       "      <th>2</th>\n",
       "      <td>6300002</td>\n",
       "      <td>Heat - Edsa Shangri-La</td>\n",
       "      <td>162</td>\n",
       "      <td>Mandaluyong City</td>\n",
       "      <td>Edsa Shangri-La, 1 Garden Way, Ortigas, Mandal...</td>\n",
       "      <td>Edsa Shangri-La, Ortigas, Mandaluyong City</td>\n",
       "      <td>Edsa Shangri-La, Ortigas, Mandaluyong City, Ma...</td>\n",
       "      <td>121.056831</td>\n",
       "      <td>14.581404</td>\n",
       "      <td>Seafood, Asian, Filipino, Indian</td>\n",
       "      <td>...</td>\n",
       "      <td>Botswana Pula(P)</td>\n",
       "      <td>Yes</td>\n",
       "      <td>No</td>\n",
       "      <td>No</td>\n",
       "      <td>No</td>\n",
       "      <td>4</td>\n",
       "      <td>4.4</td>\n",
       "      <td>Green</td>\n",
       "      <td>Very Good</td>\n",
       "      <td>270</td>\n",
       "    </tr>\n",
       "    <tr>\n",
       "      <th>3</th>\n",
       "      <td>6318506</td>\n",
       "      <td>Ooma</td>\n",
       "      <td>162</td>\n",
       "      <td>Mandaluyong City</td>\n",
       "      <td>Third Floor, Mega Fashion Hall, SM Megamall, O...</td>\n",
       "      <td>SM Megamall, Ortigas, Mandaluyong City</td>\n",
       "      <td>SM Megamall, Ortigas, Mandaluyong City, Mandal...</td>\n",
       "      <td>121.056475</td>\n",
       "      <td>14.585318</td>\n",
       "      <td>Japanese, Sushi</td>\n",
       "      <td>...</td>\n",
       "      <td>Botswana Pula(P)</td>\n",
       "      <td>No</td>\n",
       "      <td>No</td>\n",
       "      <td>No</td>\n",
       "      <td>No</td>\n",
       "      <td>4</td>\n",
       "      <td>4.9</td>\n",
       "      <td>Dark Green</td>\n",
       "      <td>Excellent</td>\n",
       "      <td>365</td>\n",
       "    </tr>\n",
       "    <tr>\n",
       "      <th>4</th>\n",
       "      <td>6314302</td>\n",
       "      <td>Sambo Kojin</td>\n",
       "      <td>162</td>\n",
       "      <td>Mandaluyong City</td>\n",
       "      <td>Third Floor, Mega Atrium, SM Megamall, Ortigas...</td>\n",
       "      <td>SM Megamall, Ortigas, Mandaluyong City</td>\n",
       "      <td>SM Megamall, Ortigas, Mandaluyong City, Mandal...</td>\n",
       "      <td>121.057508</td>\n",
       "      <td>14.584450</td>\n",
       "      <td>Japanese, Korean</td>\n",
       "      <td>...</td>\n",
       "      <td>Botswana Pula(P)</td>\n",
       "      <td>Yes</td>\n",
       "      <td>No</td>\n",
       "      <td>No</td>\n",
       "      <td>No</td>\n",
       "      <td>4</td>\n",
       "      <td>4.8</td>\n",
       "      <td>Dark Green</td>\n",
       "      <td>Excellent</td>\n",
       "      <td>229</td>\n",
       "    </tr>\n",
       "  </tbody>\n",
       "</table>\n",
       "<p>5 rows × 21 columns</p>\n",
       "</div>"
      ],
      "text/plain": [
       "   Restaurant ID         Restaurant Name  Country Code              City  \\\n",
       "0        6317637        Le Petit Souffle           162       Makati City   \n",
       "1        6304287        Izakaya Kikufuji           162       Makati City   \n",
       "2        6300002  Heat - Edsa Shangri-La           162  Mandaluyong City   \n",
       "3        6318506                    Ooma           162  Mandaluyong City   \n",
       "4        6314302             Sambo Kojin           162  Mandaluyong City   \n",
       "\n",
       "                                             Address  \\\n",
       "0  Third Floor, Century City Mall, Kalayaan Avenu...   \n",
       "1  Little Tokyo, 2277 Chino Roces Avenue, Legaspi...   \n",
       "2  Edsa Shangri-La, 1 Garden Way, Ortigas, Mandal...   \n",
       "3  Third Floor, Mega Fashion Hall, SM Megamall, O...   \n",
       "4  Third Floor, Mega Atrium, SM Megamall, Ortigas...   \n",
       "\n",
       "                                     Locality  \\\n",
       "0   Century City Mall, Poblacion, Makati City   \n",
       "1  Little Tokyo, Legaspi Village, Makati City   \n",
       "2  Edsa Shangri-La, Ortigas, Mandaluyong City   \n",
       "3      SM Megamall, Ortigas, Mandaluyong City   \n",
       "4      SM Megamall, Ortigas, Mandaluyong City   \n",
       "\n",
       "                                    Locality Verbose   Longitude   Latitude  \\\n",
       "0  Century City Mall, Poblacion, Makati City, Mak...  121.027535  14.565443   \n",
       "1  Little Tokyo, Legaspi Village, Makati City, Ma...  121.014101  14.553708   \n",
       "2  Edsa Shangri-La, Ortigas, Mandaluyong City, Ma...  121.056831  14.581404   \n",
       "3  SM Megamall, Ortigas, Mandaluyong City, Mandal...  121.056475  14.585318   \n",
       "4  SM Megamall, Ortigas, Mandaluyong City, Mandal...  121.057508  14.584450   \n",
       "\n",
       "                           Cuisines  ...           Currency Has Table booking  \\\n",
       "0        French, Japanese, Desserts  ...   Botswana Pula(P)               Yes   \n",
       "1                          Japanese  ...   Botswana Pula(P)               Yes   \n",
       "2  Seafood, Asian, Filipino, Indian  ...   Botswana Pula(P)               Yes   \n",
       "3                   Japanese, Sushi  ...   Botswana Pula(P)                No   \n",
       "4                  Japanese, Korean  ...   Botswana Pula(P)               Yes   \n",
       "\n",
       "  Has Online delivery Is delivering now Switch to order menu Price range  \\\n",
       "0                  No                No                   No           3   \n",
       "1                  No                No                   No           3   \n",
       "2                  No                No                   No           4   \n",
       "3                  No                No                   No           4   \n",
       "4                  No                No                   No           4   \n",
       "\n",
       "   Aggregate rating  Rating color Rating text Votes  \n",
       "0               4.8    Dark Green   Excellent   314  \n",
       "1               4.5    Dark Green   Excellent   591  \n",
       "2               4.4         Green   Very Good   270  \n",
       "3               4.9    Dark Green   Excellent   365  \n",
       "4               4.8    Dark Green   Excellent   229  \n",
       "\n",
       "[5 rows x 21 columns]"
      ]
     },
     "execution_count": 111,
     "metadata": {},
     "output_type": "execute_result"
    }
   ],
   "source": [
    "data.head()"
   ]
  },
  {
   "cell_type": "code",
   "execution_count": 112,
   "metadata": {
    "collapsed": true
   },
   "outputs": [],
   "source": [
    "country_code = pd.read_excel('Country-Code.xlsx')"
   ]
  },
  {
   "cell_type": "code",
   "execution_count": 113,
   "metadata": {},
   "outputs": [
    {
     "data": {
      "text/html": [
       "<div>\n",
       "<style scoped>\n",
       "    .dataframe tbody tr th:only-of-type {\n",
       "        vertical-align: middle;\n",
       "    }\n",
       "\n",
       "    .dataframe tbody tr th {\n",
       "        vertical-align: top;\n",
       "    }\n",
       "\n",
       "    .dataframe thead th {\n",
       "        text-align: right;\n",
       "    }\n",
       "</style>\n",
       "<table border=\"1\" class=\"dataframe\">\n",
       "  <thead>\n",
       "    <tr style=\"text-align: right;\">\n",
       "      <th></th>\n",
       "      <th>Country Code</th>\n",
       "      <th>Country</th>\n",
       "    </tr>\n",
       "  </thead>\n",
       "  <tbody>\n",
       "    <tr>\n",
       "      <th>0</th>\n",
       "      <td>1</td>\n",
       "      <td>India</td>\n",
       "    </tr>\n",
       "    <tr>\n",
       "      <th>1</th>\n",
       "      <td>14</td>\n",
       "      <td>Australia</td>\n",
       "    </tr>\n",
       "    <tr>\n",
       "      <th>2</th>\n",
       "      <td>30</td>\n",
       "      <td>Brazil</td>\n",
       "    </tr>\n",
       "    <tr>\n",
       "      <th>3</th>\n",
       "      <td>37</td>\n",
       "      <td>Canada</td>\n",
       "    </tr>\n",
       "    <tr>\n",
       "      <th>4</th>\n",
       "      <td>94</td>\n",
       "      <td>Indonesia</td>\n",
       "    </tr>\n",
       "  </tbody>\n",
       "</table>\n",
       "</div>"
      ],
      "text/plain": [
       "   Country Code    Country\n",
       "0             1      India\n",
       "1            14  Australia\n",
       "2            30     Brazil\n",
       "3            37     Canada\n",
       "4            94  Indonesia"
      ]
     },
     "execution_count": 113,
     "metadata": {},
     "output_type": "execute_result"
    }
   ],
   "source": [
    "country_code.head()"
   ]
  },
  {
   "cell_type": "markdown",
   "metadata": {},
   "source": [
    "### Let's have a look at the restaurants in India\n",
    "\n",
    "We need to get the country code of India first. Although we see that directly here that the country code is 1 for India, it would be a good exercise to try to extract it from the data at hand."
   ]
  },
  {
   "cell_type": "code",
   "execution_count": 114,
   "metadata": {},
   "outputs": [
    {
     "data": {
      "text/plain": [
       "0    1\n",
       "Name: Country Code, dtype: int64"
      ]
     },
     "execution_count": 114,
     "metadata": {},
     "output_type": "execute_result"
    }
   ],
   "source": [
    "country_code[country_code['Country'] == 'India']['Country Code']"
   ]
  },
  {
   "cell_type": "markdown",
   "metadata": {},
   "source": [
    "Thus the country code is 1, it is possible to find the country code of any other country using the above command."
   ]
  },
  {
   "cell_type": "code",
   "execution_count": 115,
   "metadata": {
    "collapsed": true
   },
   "outputs": [],
   "source": [
    "data_india = data[data['Country Code'] == 1]"
   ]
  },
  {
   "cell_type": "code",
   "execution_count": 116,
   "metadata": {},
   "outputs": [
    {
     "data": {
      "text/html": [
       "<div>\n",
       "<style scoped>\n",
       "    .dataframe tbody tr th:only-of-type {\n",
       "        vertical-align: middle;\n",
       "    }\n",
       "\n",
       "    .dataframe tbody tr th {\n",
       "        vertical-align: top;\n",
       "    }\n",
       "\n",
       "    .dataframe thead th {\n",
       "        text-align: right;\n",
       "    }\n",
       "</style>\n",
       "<table border=\"1\" class=\"dataframe\">\n",
       "  <thead>\n",
       "    <tr style=\"text-align: right;\">\n",
       "      <th></th>\n",
       "      <th>Restaurant ID</th>\n",
       "      <th>Restaurant Name</th>\n",
       "      <th>Country Code</th>\n",
       "      <th>City</th>\n",
       "      <th>Address</th>\n",
       "      <th>Locality</th>\n",
       "      <th>Locality Verbose</th>\n",
       "      <th>Longitude</th>\n",
       "      <th>Latitude</th>\n",
       "      <th>Cuisines</th>\n",
       "      <th>...</th>\n",
       "      <th>Currency</th>\n",
       "      <th>Has Table booking</th>\n",
       "      <th>Has Online delivery</th>\n",
       "      <th>Is delivering now</th>\n",
       "      <th>Switch to order menu</th>\n",
       "      <th>Price range</th>\n",
       "      <th>Aggregate rating</th>\n",
       "      <th>Rating color</th>\n",
       "      <th>Rating text</th>\n",
       "      <th>Votes</th>\n",
       "    </tr>\n",
       "  </thead>\n",
       "  <tbody>\n",
       "    <tr>\n",
       "      <th>624</th>\n",
       "      <td>3400025</td>\n",
       "      <td>Jahanpanah</td>\n",
       "      <td>1</td>\n",
       "      <td>Agra</td>\n",
       "      <td>E 23, Shopping Arcade, Sadar Bazaar, Agra Cant...</td>\n",
       "      <td>Agra Cantt</td>\n",
       "      <td>Agra Cantt, Agra</td>\n",
       "      <td>78.011544</td>\n",
       "      <td>27.161661</td>\n",
       "      <td>North Indian, Mughlai</td>\n",
       "      <td>...</td>\n",
       "      <td>Indian Rupees(Rs.)</td>\n",
       "      <td>No</td>\n",
       "      <td>No</td>\n",
       "      <td>No</td>\n",
       "      <td>No</td>\n",
       "      <td>3</td>\n",
       "      <td>3.9</td>\n",
       "      <td>Yellow</td>\n",
       "      <td>Good</td>\n",
       "      <td>140</td>\n",
       "    </tr>\n",
       "    <tr>\n",
       "      <th>625</th>\n",
       "      <td>3400341</td>\n",
       "      <td>Rangrezz Restaurant</td>\n",
       "      <td>1</td>\n",
       "      <td>Agra</td>\n",
       "      <td>E-20, Shopping Arcade, Sadar Bazaar, Agra Cant...</td>\n",
       "      <td>Agra Cantt</td>\n",
       "      <td>Agra Cantt, Agra</td>\n",
       "      <td>0.000000</td>\n",
       "      <td>0.000000</td>\n",
       "      <td>North Indian, Mughlai</td>\n",
       "      <td>...</td>\n",
       "      <td>Indian Rupees(Rs.)</td>\n",
       "      <td>No</td>\n",
       "      <td>No</td>\n",
       "      <td>No</td>\n",
       "      <td>No</td>\n",
       "      <td>2</td>\n",
       "      <td>3.5</td>\n",
       "      <td>Yellow</td>\n",
       "      <td>Good</td>\n",
       "      <td>71</td>\n",
       "    </tr>\n",
       "    <tr>\n",
       "      <th>626</th>\n",
       "      <td>3400005</td>\n",
       "      <td>Time2Eat - Mama Chicken</td>\n",
       "      <td>1</td>\n",
       "      <td>Agra</td>\n",
       "      <td>Main Market, Sadar Bazaar, Agra Cantt, Agra</td>\n",
       "      <td>Agra Cantt</td>\n",
       "      <td>Agra Cantt, Agra</td>\n",
       "      <td>78.011608</td>\n",
       "      <td>27.160832</td>\n",
       "      <td>North Indian</td>\n",
       "      <td>...</td>\n",
       "      <td>Indian Rupees(Rs.)</td>\n",
       "      <td>No</td>\n",
       "      <td>No</td>\n",
       "      <td>No</td>\n",
       "      <td>No</td>\n",
       "      <td>2</td>\n",
       "      <td>3.6</td>\n",
       "      <td>Yellow</td>\n",
       "      <td>Good</td>\n",
       "      <td>94</td>\n",
       "    </tr>\n",
       "    <tr>\n",
       "      <th>627</th>\n",
       "      <td>3400021</td>\n",
       "      <td>Chokho Jeeman Marwari Jain Bhojanalya</td>\n",
       "      <td>1</td>\n",
       "      <td>Agra</td>\n",
       "      <td>1/48, Delhi Gate, Station Road, Raja Mandi, Ci...</td>\n",
       "      <td>Civil Lines</td>\n",
       "      <td>Civil Lines, Agra</td>\n",
       "      <td>77.998092</td>\n",
       "      <td>27.195928</td>\n",
       "      <td>Rajasthani</td>\n",
       "      <td>...</td>\n",
       "      <td>Indian Rupees(Rs.)</td>\n",
       "      <td>No</td>\n",
       "      <td>No</td>\n",
       "      <td>No</td>\n",
       "      <td>No</td>\n",
       "      <td>2</td>\n",
       "      <td>4.0</td>\n",
       "      <td>Green</td>\n",
       "      <td>Very Good</td>\n",
       "      <td>87</td>\n",
       "    </tr>\n",
       "    <tr>\n",
       "      <th>628</th>\n",
       "      <td>3400017</td>\n",
       "      <td>Pinch Of Spice</td>\n",
       "      <td>1</td>\n",
       "      <td>Agra</td>\n",
       "      <td>23/453, Opposite Sanjay Cinema, Wazipura Road,...</td>\n",
       "      <td>Civil Lines</td>\n",
       "      <td>Civil Lines, Agra</td>\n",
       "      <td>78.007553</td>\n",
       "      <td>27.201725</td>\n",
       "      <td>North Indian, Chinese, Mughlai</td>\n",
       "      <td>...</td>\n",
       "      <td>Indian Rupees(Rs.)</td>\n",
       "      <td>No</td>\n",
       "      <td>No</td>\n",
       "      <td>No</td>\n",
       "      <td>No</td>\n",
       "      <td>3</td>\n",
       "      <td>4.2</td>\n",
       "      <td>Green</td>\n",
       "      <td>Very Good</td>\n",
       "      <td>177</td>\n",
       "    </tr>\n",
       "  </tbody>\n",
       "</table>\n",
       "<p>5 rows × 21 columns</p>\n",
       "</div>"
      ],
      "text/plain": [
       "     Restaurant ID                        Restaurant Name  Country Code  City  \\\n",
       "624        3400025                             Jahanpanah             1  Agra   \n",
       "625        3400341                    Rangrezz Restaurant             1  Agra   \n",
       "626        3400005                Time2Eat - Mama Chicken             1  Agra   \n",
       "627        3400021  Chokho Jeeman Marwari Jain Bhojanalya             1  Agra   \n",
       "628        3400017                         Pinch Of Spice             1  Agra   \n",
       "\n",
       "                                               Address     Locality  \\\n",
       "624  E 23, Shopping Arcade, Sadar Bazaar, Agra Cant...   Agra Cantt   \n",
       "625  E-20, Shopping Arcade, Sadar Bazaar, Agra Cant...   Agra Cantt   \n",
       "626        Main Market, Sadar Bazaar, Agra Cantt, Agra   Agra Cantt   \n",
       "627  1/48, Delhi Gate, Station Road, Raja Mandi, Ci...  Civil Lines   \n",
       "628  23/453, Opposite Sanjay Cinema, Wazipura Road,...  Civil Lines   \n",
       "\n",
       "      Locality Verbose  Longitude   Latitude                        Cuisines  \\\n",
       "624   Agra Cantt, Agra  78.011544  27.161661           North Indian, Mughlai   \n",
       "625   Agra Cantt, Agra   0.000000   0.000000           North Indian, Mughlai   \n",
       "626   Agra Cantt, Agra  78.011608  27.160832                    North Indian   \n",
       "627  Civil Lines, Agra  77.998092  27.195928                      Rajasthani   \n",
       "628  Civil Lines, Agra  78.007553  27.201725  North Indian, Chinese, Mughlai   \n",
       "\n",
       "     ...             Currency Has Table booking Has Online delivery  \\\n",
       "624  ...   Indian Rupees(Rs.)                No                  No   \n",
       "625  ...   Indian Rupees(Rs.)                No                  No   \n",
       "626  ...   Indian Rupees(Rs.)                No                  No   \n",
       "627  ...   Indian Rupees(Rs.)                No                  No   \n",
       "628  ...   Indian Rupees(Rs.)                No                  No   \n",
       "\n",
       "    Is delivering now Switch to order menu Price range  Aggregate rating  \\\n",
       "624                No                   No           3               3.9   \n",
       "625                No                   No           2               3.5   \n",
       "626                No                   No           2               3.6   \n",
       "627                No                   No           2               4.0   \n",
       "628                No                   No           3               4.2   \n",
       "\n",
       "     Rating color Rating text Votes  \n",
       "624        Yellow        Good   140  \n",
       "625        Yellow        Good    71  \n",
       "626        Yellow        Good    94  \n",
       "627         Green   Very Good    87  \n",
       "628         Green   Very Good   177  \n",
       "\n",
       "[5 rows x 21 columns]"
      ]
     },
     "execution_count": 116,
     "metadata": {},
     "output_type": "execute_result"
    }
   ],
   "source": [
    "data_india.head()"
   ]
  },
  {
   "cell_type": "markdown",
   "metadata": {},
   "source": [
    "#### Finding the list of cuisines available in Indian restaurants"
   ]
  },
  {
   "cell_type": "code",
   "execution_count": 117,
   "metadata": {},
   "outputs": [
    {
     "data": {
      "text/plain": [
       "array(['North Indian, Mughlai', 'North Indian', 'Rajasthani', ...,\n",
       "       'Continental, Seafood, Chinese, North Indian, Biryani',\n",
       "       'Burger, Pizza, Biryani',\n",
       "       'American, North Indian, Thai, Continental'], dtype=object)"
      ]
     },
     "execution_count": 117,
     "metadata": {},
     "output_type": "execute_result"
    }
   ],
   "source": [
    "data_india['Cuisines'].unique()"
   ]
  },
  {
   "cell_type": "markdown",
   "metadata": {},
   "source": [
    "#### Total no of cuisines "
   ]
  },
  {
   "cell_type": "code",
   "execution_count": 118,
   "metadata": {},
   "outputs": [
    {
     "data": {
      "text/plain": [
       "1392"
      ]
     },
     "execution_count": 118,
     "metadata": {},
     "output_type": "execute_result"
    }
   ],
   "source": [
    "data_india['Cuisines'].nunique()"
   ]
  },
  {
   "cell_type": "markdown",
   "metadata": {},
   "source": [
    "#### Total no. of restaurants in India"
   ]
  },
  {
   "cell_type": "code",
   "execution_count": 119,
   "metadata": {},
   "outputs": [
    {
     "data": {
      "text/plain": [
       "8652"
      ]
     },
     "execution_count": 119,
     "metadata": {},
     "output_type": "execute_result"
    }
   ],
   "source": [
    "data_india['Restaurant ID'].nunique()"
   ]
  },
  {
   "cell_type": "code",
   "execution_count": 120,
   "metadata": {},
   "outputs": [
    {
     "data": {
      "text/plain": [
       "Index(['Restaurant ID', 'Restaurant Name', 'Country Code', 'City', 'Address',\n",
       "       'Locality', 'Locality Verbose', 'Longitude', 'Latitude', 'Cuisines',\n",
       "       'Average Cost for two', 'Currency', 'Has Table booking',\n",
       "       'Has Online delivery', 'Is delivering now', 'Switch to order menu',\n",
       "       'Price range', 'Aggregate rating', 'Rating color', 'Rating text',\n",
       "       'Votes'],\n",
       "      dtype='object')"
      ]
     },
     "execution_count": 120,
     "metadata": {},
     "output_type": "execute_result"
    }
   ],
   "source": [
    "data_india.columns"
   ]
  },
  {
   "cell_type": "markdown",
   "metadata": {},
   "source": [
    "Most of the restaurants covered by Zomata ratings and reviews seems to be in India in this particular data set. "
   ]
  },
  {
   "cell_type": "markdown",
   "metadata": {
    "collapsed": true
   },
   "source": [
    "### What are we looking for?\n",
    "\n",
    "As we go along with the analysis we will try to find out what factors influences the ratings of the restaurants. The ability to book a table for example might influence how a potential customer leaves a rating. Another important factor would be the authenticity of the cuisine being served. As a general rule of thumb one might say that a multi-cuisine restaurant might be less authentic than one that serves only one type of cuisine. I will try to cover such aspects in this analysis:"
   ]
  },
  {
   "cell_type": "code",
   "execution_count": 121,
   "metadata": {
    "collapsed": true
   },
   "outputs": [],
   "source": [
    "sns.set(font_scale=1.2, rc={'figure.figsize':(8,5)})\n",
    "import warnings\n",
    "warnings.simplefilter(action='ignore', category=FutureWarning)"
   ]
  },
  {
   "cell_type": "code",
   "execution_count": 122,
   "metadata": {},
   "outputs": [
    {
     "data": {
      "text/plain": [
       "<matplotlib.axes._subplots.AxesSubplot at 0x1d405e26f28>"
      ]
     },
     "execution_count": 122,
     "metadata": {},
     "output_type": "execute_result"
    },
    {
     "data": {
      "image/png": "[encoded data removed]",
      "text/plain": [
       "<matplotlib.figure.Figure at 0x1d405e262b0>"
      ]
     },
     "metadata": {},
     "output_type": "display_data"
    }
   ],
   "source": [
    "sns.barplot(x=\"Price range\", y='Aggregate rating', hue='Has Table booking', data=data_india)"
   ]
  },
  {
   "cell_type": "markdown",
   "metadata": {},
   "source": [
    "It seems that for restaurants that are more affordable (has a lower price range) have higher ratings if they provide table booking services.For pricier restaurants table booking option does not seem to affect the ratings much."
   ]
  },
  {
   "cell_type": "code",
   "execution_count": 123,
   "metadata": {},
   "outputs": [
    {
     "data": {
      "text/plain": [
       "<matplotlib.axes._subplots.AxesSubplot at 0x1d405e31588>"
      ]
     },
     "execution_count": 123,
     "metadata": {},
     "output_type": "execute_result"
    },
    {
     "data": {
      "image/png": "[encoded data removed]",
      "text/plain": [
       "<matplotlib.figure.Figure at 0x1d405e96208>"
      ]
     },
     "metadata": {},
     "output_type": "display_data"
    }
   ],
   "source": [
    "sns.barplot(x=\"Price range\", y='Aggregate rating', hue='Has Online delivery', data=data_india)"
   ]
  },
  {
   "cell_type": "markdown",
   "metadata": {},
   "source": [
    "Again for restaurants that are in the lower price range (1 and 2) seems to have better average rating if they provide online delivery services. This is not so signficant for the restaurants falling in the pricier category."
   ]
  },
  {
   "cell_type": "code",
   "execution_count": 124,
   "metadata": {},
   "outputs": [
    {
     "data": {
      "text/plain": [
       "<matplotlib.axes._subplots.AxesSubplot at 0x1d405f0a470>"
      ]
     },
     "execution_count": 124,
     "metadata": {},
     "output_type": "execute_result"
    },
    {
     "data": {
      "image/png": "[encoded data removed]",
      "text/plain": [
       "<matplotlib.figure.Figure at 0x1d405e83c88>"
      ]
     },
     "metadata": {},
     "output_type": "display_data"
    }
   ],
   "source": [
    "sns.barplot(x=\"Price range\", y='Aggregate rating', hue='Is delivering now', data=data_india)"
   ]
  },
  {
   "cell_type": "code",
   "execution_count": 125,
   "metadata": {},
   "outputs": [
    {
     "data": {
      "text/plain": [
       "<matplotlib.axes._subplots.AxesSubplot at 0x1d405f33898>"
      ]
     },
     "execution_count": 125,
     "metadata": {},
     "output_type": "execute_result"
    },
    {
     "data": {
      "image/png": "[encoded data removed]",
      "text/plain": [
       "<matplotlib.figure.Figure at 0x1d405f45da0>"
      ]
     },
     "metadata": {},
     "output_type": "display_data"
    }
   ],
   "source": [
    "sns.barplot(x=\"Price range\", y='Aggregate rating', data=data_india)"
   ]
  },
  {
   "cell_type": "markdown",
   "metadata": {},
   "source": [
    "The 'Switch to order menu' service is not provided by any of the restaurants that have been reviewed in Zomato. But this interestingly shows the general trend of ratings provided by the users. The lower price restaurants in general have worser ratings compared to the pricier ones. There is essentially little difference in the ratings of price categories 1 and 2."
   ]
  },
  {
   "cell_type": "markdown",
   "metadata": {},
   "source": [
    "### Cuisines provided by the restaurants\n",
    "The above restaurants are a mix of single cusine and multi-cuisine restaurant. The rating of restaurants will be affected by the authenticity of the cuisine they are serving. I will first make a column of cusines that is served by the restaurants."
   ]
  },
  {
   "cell_type": "code",
   "execution_count": 126,
   "metadata": {
    "collapsed": true
   },
   "outputs": [],
   "source": [
    "def cusines_count(text):\n",
    "    x = text.split(',')\n",
    "    return len(x)"
   ]
  },
  {
   "cell_type": "code",
   "execution_count": 127,
   "metadata": {
    "collapsed": true
   },
   "outputs": [],
   "source": [
    "x = data_india['Cuisines'].apply(cusines_count)"
   ]
  },
  {
   "cell_type": "code",
   "execution_count": 128,
   "metadata": {
    "collapsed": true
   },
   "outputs": [],
   "source": [
    "x = x.rename(\"No. of cuisines\")"
   ]
  },
  {
   "cell_type": "code",
   "execution_count": 129,
   "metadata": {},
   "outputs": [
    {
     "data": {
      "text/plain": [
       "'No. of cuisines'"
      ]
     },
     "execution_count": 129,
     "metadata": {},
     "output_type": "execute_result"
    }
   ],
   "source": [
    "x.name"
   ]
  },
  {
   "cell_type": "code",
   "execution_count": 130,
   "metadata": {
    "collapsed": true
   },
   "outputs": [],
   "source": [
    "data_modified = pd.concat([data_india, x], axis= 1)"
   ]
  },
  {
   "cell_type": "code",
   "execution_count": 131,
   "metadata": {},
   "outputs": [
    {
     "data": {
      "text/html": [
       "<div>\n",
       "<style scoped>\n",
       "    .dataframe tbody tr th:only-of-type {\n",
       "        vertical-align: middle;\n",
       "    }\n",
       "\n",
       "    .dataframe tbody tr th {\n",
       "        vertical-align: top;\n",
       "    }\n",
       "\n",
       "    .dataframe thead th {\n",
       "        text-align: right;\n",
       "    }\n",
       "</style>\n",
       "<table border=\"1\" class=\"dataframe\">\n",
       "  <thead>\n",
       "    <tr style=\"text-align: right;\">\n",
       "      <th></th>\n",
       "      <th>Restaurant ID</th>\n",
       "      <th>Restaurant Name</th>\n",
       "      <th>Country Code</th>\n",
       "      <th>City</th>\n",
       "      <th>Address</th>\n",
       "      <th>Locality</th>\n",
       "      <th>Locality Verbose</th>\n",
       "      <th>Longitude</th>\n",
       "      <th>Latitude</th>\n",
       "      <th>Cuisines</th>\n",
       "      <th>...</th>\n",
       "      <th>Has Table booking</th>\n",
       "      <th>Has Online delivery</th>\n",
       "      <th>Is delivering now</th>\n",
       "      <th>Switch to order menu</th>\n",
       "      <th>Price range</th>\n",
       "      <th>Aggregate rating</th>\n",
       "      <th>Rating color</th>\n",
       "      <th>Rating text</th>\n",
       "      <th>Votes</th>\n",
       "      <th>No. of cuisines</th>\n",
       "    </tr>\n",
       "  </thead>\n",
       "  <tbody>\n",
       "    <tr>\n",
       "      <th>624</th>\n",
       "      <td>3400025</td>\n",
       "      <td>Jahanpanah</td>\n",
       "      <td>1</td>\n",
       "      <td>Agra</td>\n",
       "      <td>E 23, Shopping Arcade, Sadar Bazaar, Agra Cant...</td>\n",
       "      <td>Agra Cantt</td>\n",
       "      <td>Agra Cantt, Agra</td>\n",
       "      <td>78.011544</td>\n",
       "      <td>27.161661</td>\n",
       "      <td>North Indian, Mughlai</td>\n",
       "      <td>...</td>\n",
       "      <td>No</td>\n",
       "      <td>No</td>\n",
       "      <td>No</td>\n",
       "      <td>No</td>\n",
       "      <td>3</td>\n",
       "      <td>3.9</td>\n",
       "      <td>Yellow</td>\n",
       "      <td>Good</td>\n",
       "      <td>140</td>\n",
       "      <td>2</td>\n",
       "    </tr>\n",
       "    <tr>\n",
       "      <th>625</th>\n",
       "      <td>3400341</td>\n",
       "      <td>Rangrezz Restaurant</td>\n",
       "      <td>1</td>\n",
       "      <td>Agra</td>\n",
       "      <td>E-20, Shopping Arcade, Sadar Bazaar, Agra Cant...</td>\n",
       "      <td>Agra Cantt</td>\n",
       "      <td>Agra Cantt, Agra</td>\n",
       "      <td>0.000000</td>\n",
       "      <td>0.000000</td>\n",
       "      <td>North Indian, Mughlai</td>\n",
       "      <td>...</td>\n",
       "      <td>No</td>\n",
       "      <td>No</td>\n",
       "      <td>No</td>\n",
       "      <td>No</td>\n",
       "      <td>2</td>\n",
       "      <td>3.5</td>\n",
       "      <td>Yellow</td>\n",
       "      <td>Good</td>\n",
       "      <td>71</td>\n",
       "      <td>2</td>\n",
       "    </tr>\n",
       "    <tr>\n",
       "      <th>626</th>\n",
       "      <td>3400005</td>\n",
       "      <td>Time2Eat - Mama Chicken</td>\n",
       "      <td>1</td>\n",
       "      <td>Agra</td>\n",
       "      <td>Main Market, Sadar Bazaar, Agra Cantt, Agra</td>\n",
       "      <td>Agra Cantt</td>\n",
       "      <td>Agra Cantt, Agra</td>\n",
       "      <td>78.011608</td>\n",
       "      <td>27.160832</td>\n",
       "      <td>North Indian</td>\n",
       "      <td>...</td>\n",
       "      <td>No</td>\n",
       "      <td>No</td>\n",
       "      <td>No</td>\n",
       "      <td>No</td>\n",
       "      <td>2</td>\n",
       "      <td>3.6</td>\n",
       "      <td>Yellow</td>\n",
       "      <td>Good</td>\n",
       "      <td>94</td>\n",
       "      <td>1</td>\n",
       "    </tr>\n",
       "    <tr>\n",
       "      <th>627</th>\n",
       "      <td>3400021</td>\n",
       "      <td>Chokho Jeeman Marwari Jain Bhojanalya</td>\n",
       "      <td>1</td>\n",
       "      <td>Agra</td>\n",
       "      <td>1/48, Delhi Gate, Station Road, Raja Mandi, Ci...</td>\n",
       "      <td>Civil Lines</td>\n",
       "      <td>Civil Lines, Agra</td>\n",
       "      <td>77.998092</td>\n",
       "      <td>27.195928</td>\n",
       "      <td>Rajasthani</td>\n",
       "      <td>...</td>\n",
       "      <td>No</td>\n",
       "      <td>No</td>\n",
       "      <td>No</td>\n",
       "      <td>No</td>\n",
       "      <td>2</td>\n",
       "      <td>4.0</td>\n",
       "      <td>Green</td>\n",
       "      <td>Very Good</td>\n",
       "      <td>87</td>\n",
       "      <td>1</td>\n",
       "    </tr>\n",
       "    <tr>\n",
       "      <th>628</th>\n",
       "      <td>3400017</td>\n",
       "      <td>Pinch Of Spice</td>\n",
       "      <td>1</td>\n",
       "      <td>Agra</td>\n",
       "      <td>23/453, Opposite Sanjay Cinema, Wazipura Road,...</td>\n",
       "      <td>Civil Lines</td>\n",
       "      <td>Civil Lines, Agra</td>\n",
       "      <td>78.007553</td>\n",
       "      <td>27.201725</td>\n",
       "      <td>North Indian, Chinese, Mughlai</td>\n",
       "      <td>...</td>\n",
       "      <td>No</td>\n",
       "      <td>No</td>\n",
       "      <td>No</td>\n",
       "      <td>No</td>\n",
       "      <td>3</td>\n",
       "      <td>4.2</td>\n",
       "      <td>Green</td>\n",
       "      <td>Very Good</td>\n",
       "      <td>177</td>\n",
       "      <td>3</td>\n",
       "    </tr>\n",
       "  </tbody>\n",
       "</table>\n",
       "<p>5 rows × 22 columns</p>\n",
       "</div>"
      ],
      "text/plain": [
       "     Restaurant ID                        Restaurant Name  Country Code  City  \\\n",
       "624        3400025                             Jahanpanah             1  Agra   \n",
       "625        3400341                    Rangrezz Restaurant             1  Agra   \n",
       "626        3400005                Time2Eat - Mama Chicken             1  Agra   \n",
       "627        3400021  Chokho Jeeman Marwari Jain Bhojanalya             1  Agra   \n",
       "628        3400017                         Pinch Of Spice             1  Agra   \n",
       "\n",
       "                                               Address     Locality  \\\n",
       "624  E 23, Shopping Arcade, Sadar Bazaar, Agra Cant...   Agra Cantt   \n",
       "625  E-20, Shopping Arcade, Sadar Bazaar, Agra Cant...   Agra Cantt   \n",
       "626        Main Market, Sadar Bazaar, Agra Cantt, Agra   Agra Cantt   \n",
       "627  1/48, Delhi Gate, Station Road, Raja Mandi, Ci...  Civil Lines   \n",
       "628  23/453, Opposite Sanjay Cinema, Wazipura Road,...  Civil Lines   \n",
       "\n",
       "      Locality Verbose  Longitude   Latitude                        Cuisines  \\\n",
       "624   Agra Cantt, Agra  78.011544  27.161661           North Indian, Mughlai   \n",
       "625   Agra Cantt, Agra   0.000000   0.000000           North Indian, Mughlai   \n",
       "626   Agra Cantt, Agra  78.011608  27.160832                    North Indian   \n",
       "627  Civil Lines, Agra  77.998092  27.195928                      Rajasthani   \n",
       "628  Civil Lines, Agra  78.007553  27.201725  North Indian, Chinese, Mughlai   \n",
       "\n",
       "          ...        Has Table booking Has Online delivery Is delivering now  \\\n",
       "624       ...                       No                  No                No   \n",
       "625       ...                       No                  No                No   \n",
       "626       ...                       No                  No                No   \n",
       "627       ...                       No                  No                No   \n",
       "628       ...                       No                  No                No   \n",
       "\n",
       "    Switch to order menu Price range Aggregate rating  Rating color  \\\n",
       "624                   No           3              3.9        Yellow   \n",
       "625                   No           2              3.5        Yellow   \n",
       "626                   No           2              3.6        Yellow   \n",
       "627                   No           2              4.0         Green   \n",
       "628                   No           3              4.2         Green   \n",
       "\n",
       "     Rating text Votes No. of cuisines  \n",
       "624         Good   140               2  \n",
       "625         Good    71               2  \n",
       "626         Good    94               1  \n",
       "627    Very Good    87               1  \n",
       "628    Very Good   177               3  \n",
       "\n",
       "[5 rows x 22 columns]"
      ]
     },
     "execution_count": 131,
     "metadata": {},
     "output_type": "execute_result"
    }
   ],
   "source": [
    "data_modified.head()"
   ]
  },
  {
   "cell_type": "code",
   "execution_count": 192,
   "metadata": {},
   "outputs": [
    {
     "data": {
      "text/plain": [
       "<matplotlib.axes._subplots.AxesSubplot at 0x1d4068a5be0>"
      ]
     },
     "execution_count": 192,
     "metadata": {},
     "output_type": "execute_result"
    },
    {
     "data": {
      "image/png": "[encoded data removed]",
      "text/plain": [
       "<matplotlib.figure.Figure at 0x1d4068a5518>"
      ]
     },
     "metadata": {},
     "output_type": "display_data"
    }
   ],
   "source": [
    "#Mean of all ratings\n",
    "sns.distplot(data_modified['Aggregate rating'])"
   ]
  },
  {
   "cell_type": "markdown",
   "metadata": {},
   "source": [
    "There are a lot of unrated restaurants in this dataset which would not contribute to understanding the dynamics of restaurant goers in India. We will remove all this data points to have a more representative sample. It might be possible to predict the ratings of those restaurants based on the characteristics of the restaurants that have already been rated."
   ]
  },
  {
   "cell_type": "code",
   "execution_count": 193,
   "metadata": {},
   "outputs": [
    {
     "data": {
      "text/plain": [
       "<matplotlib.axes._subplots.AxesSubplot at 0x1d4068b4978>"
      ]
     },
     "execution_count": 193,
     "metadata": {},
     "output_type": "execute_result"
    },
    {
     "data": {
      "image/png": "[encoded data removed]",
      "text/plain": [
       "<matplotlib.figure.Figure at 0x1d404d63a58>"
      ]
     },
     "metadata": {},
     "output_type": "display_data"
    }
   ],
   "source": [
    "sns.distplot(data_modified['Votes'])"
   ]
  },
  {
   "cell_type": "markdown",
   "metadata": {},
   "source": [
    "Let us now remove the data points that do not have any votes or ratings"
   ]
  },
  {
   "cell_type": "code",
   "execution_count": 213,
   "metadata": {},
   "outputs": [],
   "source": [
    "data_rated_restaurants = data_modified[(data_modified['Aggregate rating']>0)&(data_modified['Votes']>0)]"
   ]
  },
  {
   "cell_type": "code",
   "execution_count": 214,
   "metadata": {},
   "outputs": [
    {
     "data": {
      "text/plain": [
       "(6513, 22)"
      ]
     },
     "execution_count": 214,
     "metadata": {},
     "output_type": "execute_result"
    }
   ],
   "source": [
    "data_rated_restaurants.shape"
   ]
  },
  {
   "cell_type": "markdown",
   "metadata": {},
   "source": [
    "Let us have another look now at the distribution of aggregrate ratings among all restaurants."
   ]
  },
  {
   "cell_type": "code",
   "execution_count": 216,
   "metadata": {},
   "outputs": [
    {
     "data": {
      "text/plain": [
       "<matplotlib.axes._subplots.AxesSubplot at 0x1d415015fd0>"
      ]
     },
     "execution_count": 216,
     "metadata": {},
     "output_type": "execute_result"
    },
    {
     "data": {
      "image/png": "[encoded data removed]",
      "text/plain": [
       "<matplotlib.figure.Figure at 0x1d40ec683c8>"
      ]
     },
     "metadata": {},
     "output_type": "display_data"
    }
   ],
   "source": [
    "sns.distplot(data_rated_restaurants['Aggregate rating'], color='r', rug = False)"
   ]
  },
  {
   "cell_type": "code",
   "execution_count": 217,
   "metadata": {},
   "outputs": [
    {
     "data": {
      "text/plain": [
       "<matplotlib.axes._subplots.AxesSubplot at 0x1d40ec5d2e8>"
      ]
     },
     "execution_count": 217,
     "metadata": {},
     "output_type": "execute_result"
    },
    {
     "data": {
      "image/png": "[encoded data removed]",
      "text/plain": [
       "<matplotlib.figure.Figure at 0x1d415159278>"
      ]
     },
     "metadata": {},
     "output_type": "display_data"
    }
   ],
   "source": [
    "sns.barplot(x ='No. of cuisines', y = 'Aggregate rating', data= data_rated_restaurants, palette=\"Blues_d\" )"
   ]
  },
  {
   "cell_type": "markdown",
   "metadata": {},
   "source": [
    "This is very interesting situation. It seems that contrary to my own expectations, it seems that multi-cusine restaurants in India seems to have a better aggregrate rating. It would be interesting to see the distribution divided between the four price ranges"
   ]
  },
  {
   "cell_type": "code",
   "execution_count": 218,
   "metadata": {},
   "outputs": [
    {
     "data": {
      "text/plain": [
       "<matplotlib.axes._subplots.AxesSubplot at 0x1d4151b26d8>"
      ]
     },
     "execution_count": 218,
     "metadata": {},
     "output_type": "execute_result"
    },
    {
     "data": {
      "image/png": "[encoded data removed]",
      "text/plain": [
       "<matplotlib.figure.Figure at 0x1d40e877dd8>"
      ]
     },
     "metadata": {},
     "output_type": "display_data"
    }
   ],
   "source": [
    "sns.barplot(x =\"Price range\", y = 'Aggregate rating', hue= 'No. of cuisines', data= data_rated_restaurants, palette=\"Blues_d\" )"
   ]
  },
  {
   "cell_type": "markdown",
   "metadata": {},
   "source": [
    "The trend of the aggregate rating being better for multicuisine restaurant seems to be valid for all the price range of restaurants. Thus in India it is likely that if you have a multi-cuisine restaurant it would probably get better ratings. Additionally, the highest price category restaurants provide no more than 7 cuisines. Let us have a look at our modified dataset again:\n"
   ]
  },
  {
   "cell_type": "code",
   "execution_count": 219,
   "metadata": {},
   "outputs": [
    {
     "data": {
      "text/html": [
       "<div>\n",
       "<style scoped>\n",
       "    .dataframe tbody tr th:only-of-type {\n",
       "        vertical-align: middle;\n",
       "    }\n",
       "\n",
       "    .dataframe tbody tr th {\n",
       "        vertical-align: top;\n",
       "    }\n",
       "\n",
       "    .dataframe thead th {\n",
       "        text-align: right;\n",
       "    }\n",
       "</style>\n",
       "<table border=\"1\" class=\"dataframe\">\n",
       "  <thead>\n",
       "    <tr style=\"text-align: right;\">\n",
       "      <th></th>\n",
       "      <th>Restaurant ID</th>\n",
       "      <th>Restaurant Name</th>\n",
       "      <th>Country Code</th>\n",
       "      <th>City</th>\n",
       "      <th>Address</th>\n",
       "      <th>Locality</th>\n",
       "      <th>Locality Verbose</th>\n",
       "      <th>Longitude</th>\n",
       "      <th>Latitude</th>\n",
       "      <th>Cuisines</th>\n",
       "      <th>...</th>\n",
       "      <th>Has Table booking</th>\n",
       "      <th>Has Online delivery</th>\n",
       "      <th>Is delivering now</th>\n",
       "      <th>Switch to order menu</th>\n",
       "      <th>Price range</th>\n",
       "      <th>Aggregate rating</th>\n",
       "      <th>Rating color</th>\n",
       "      <th>Rating text</th>\n",
       "      <th>Votes</th>\n",
       "      <th>No. of cuisines</th>\n",
       "    </tr>\n",
       "  </thead>\n",
       "  <tbody>\n",
       "    <tr>\n",
       "      <th>624</th>\n",
       "      <td>3400025</td>\n",
       "      <td>Jahanpanah</td>\n",
       "      <td>1</td>\n",
       "      <td>Agra</td>\n",
       "      <td>E 23, Shopping Arcade, Sadar Bazaar, Agra Cant...</td>\n",
       "      <td>Agra Cantt</td>\n",
       "      <td>Agra Cantt, Agra</td>\n",
       "      <td>78.011544</td>\n",
       "      <td>27.161661</td>\n",
       "      <td>North Indian, Mughlai</td>\n",
       "      <td>...</td>\n",
       "      <td>No</td>\n",
       "      <td>No</td>\n",
       "      <td>No</td>\n",
       "      <td>No</td>\n",
       "      <td>3</td>\n",
       "      <td>3.9</td>\n",
       "      <td>Yellow</td>\n",
       "      <td>Good</td>\n",
       "      <td>140</td>\n",
       "      <td>2</td>\n",
       "    </tr>\n",
       "    <tr>\n",
       "      <th>625</th>\n",
       "      <td>3400341</td>\n",
       "      <td>Rangrezz Restaurant</td>\n",
       "      <td>1</td>\n",
       "      <td>Agra</td>\n",
       "      <td>E-20, Shopping Arcade, Sadar Bazaar, Agra Cant...</td>\n",
       "      <td>Agra Cantt</td>\n",
       "      <td>Agra Cantt, Agra</td>\n",
       "      <td>0.000000</td>\n",
       "      <td>0.000000</td>\n",
       "      <td>North Indian, Mughlai</td>\n",
       "      <td>...</td>\n",
       "      <td>No</td>\n",
       "      <td>No</td>\n",
       "      <td>No</td>\n",
       "      <td>No</td>\n",
       "      <td>2</td>\n",
       "      <td>3.5</td>\n",
       "      <td>Yellow</td>\n",
       "      <td>Good</td>\n",
       "      <td>71</td>\n",
       "      <td>2</td>\n",
       "    </tr>\n",
       "    <tr>\n",
       "      <th>626</th>\n",
       "      <td>3400005</td>\n",
       "      <td>Time2Eat - Mama Chicken</td>\n",
       "      <td>1</td>\n",
       "      <td>Agra</td>\n",
       "      <td>Main Market, Sadar Bazaar, Agra Cantt, Agra</td>\n",
       "      <td>Agra Cantt</td>\n",
       "      <td>Agra Cantt, Agra</td>\n",
       "      <td>78.011608</td>\n",
       "      <td>27.160832</td>\n",
       "      <td>North Indian</td>\n",
       "      <td>...</td>\n",
       "      <td>No</td>\n",
       "      <td>No</td>\n",
       "      <td>No</td>\n",
       "      <td>No</td>\n",
       "      <td>2</td>\n",
       "      <td>3.6</td>\n",
       "      <td>Yellow</td>\n",
       "      <td>Good</td>\n",
       "      <td>94</td>\n",
       "      <td>1</td>\n",
       "    </tr>\n",
       "    <tr>\n",
       "      <th>627</th>\n",
       "      <td>3400021</td>\n",
       "      <td>Chokho Jeeman Marwari Jain Bhojanalya</td>\n",
       "      <td>1</td>\n",
       "      <td>Agra</td>\n",
       "      <td>1/48, Delhi Gate, Station Road, Raja Mandi, Ci...</td>\n",
       "      <td>Civil Lines</td>\n",
       "      <td>Civil Lines, Agra</td>\n",
       "      <td>77.998092</td>\n",
       "      <td>27.195928</td>\n",
       "      <td>Rajasthani</td>\n",
       "      <td>...</td>\n",
       "      <td>No</td>\n",
       "      <td>No</td>\n",
       "      <td>No</td>\n",
       "      <td>No</td>\n",
       "      <td>2</td>\n",
       "      <td>4.0</td>\n",
       "      <td>Green</td>\n",
       "      <td>Very Good</td>\n",
       "      <td>87</td>\n",
       "      <td>1</td>\n",
       "    </tr>\n",
       "    <tr>\n",
       "      <th>628</th>\n",
       "      <td>3400017</td>\n",
       "      <td>Pinch Of Spice</td>\n",
       "      <td>1</td>\n",
       "      <td>Agra</td>\n",
       "      <td>23/453, Opposite Sanjay Cinema, Wazipura Road,...</td>\n",
       "      <td>Civil Lines</td>\n",
       "      <td>Civil Lines, Agra</td>\n",
       "      <td>78.007553</td>\n",
       "      <td>27.201725</td>\n",
       "      <td>North Indian, Chinese, Mughlai</td>\n",
       "      <td>...</td>\n",
       "      <td>No</td>\n",
       "      <td>No</td>\n",
       "      <td>No</td>\n",
       "      <td>No</td>\n",
       "      <td>3</td>\n",
       "      <td>4.2</td>\n",
       "      <td>Green</td>\n",
       "      <td>Very Good</td>\n",
       "      <td>177</td>\n",
       "      <td>3</td>\n",
       "    </tr>\n",
       "  </tbody>\n",
       "</table>\n",
       "<p>5 rows × 22 columns</p>\n",
       "</div>"
      ],
      "text/plain": [
       "     Restaurant ID                        Restaurant Name  Country Code  City  \\\n",
       "624        3400025                             Jahanpanah             1  Agra   \n",
       "625        3400341                    Rangrezz Restaurant             1  Agra   \n",
       "626        3400005                Time2Eat - Mama Chicken             1  Agra   \n",
       "627        3400021  Chokho Jeeman Marwari Jain Bhojanalya             1  Agra   \n",
       "628        3400017                         Pinch Of Spice             1  Agra   \n",
       "\n",
       "                                               Address     Locality  \\\n",
       "624  E 23, Shopping Arcade, Sadar Bazaar, Agra Cant...   Agra Cantt   \n",
       "625  E-20, Shopping Arcade, Sadar Bazaar, Agra Cant...   Agra Cantt   \n",
       "626        Main Market, Sadar Bazaar, Agra Cantt, Agra   Agra Cantt   \n",
       "627  1/48, Delhi Gate, Station Road, Raja Mandi, Ci...  Civil Lines   \n",
       "628  23/453, Opposite Sanjay Cinema, Wazipura Road,...  Civil Lines   \n",
       "\n",
       "      Locality Verbose  Longitude   Latitude                        Cuisines  \\\n",
       "624   Agra Cantt, Agra  78.011544  27.161661           North Indian, Mughlai   \n",
       "625   Agra Cantt, Agra   0.000000   0.000000           North Indian, Mughlai   \n",
       "626   Agra Cantt, Agra  78.011608  27.160832                    North Indian   \n",
       "627  Civil Lines, Agra  77.998092  27.195928                      Rajasthani   \n",
       "628  Civil Lines, Agra  78.007553  27.201725  North Indian, Chinese, Mughlai   \n",
       "\n",
       "          ...        Has Table booking Has Online delivery Is delivering now  \\\n",
       "624       ...                       No                  No                No   \n",
       "625       ...                       No                  No                No   \n",
       "626       ...                       No                  No                No   \n",
       "627       ...                       No                  No                No   \n",
       "628       ...                       No                  No                No   \n",
       "\n",
       "    Switch to order menu Price range Aggregate rating  Rating color  \\\n",
       "624                   No           3              3.9        Yellow   \n",
       "625                   No           2              3.5        Yellow   \n",
       "626                   No           2              3.6        Yellow   \n",
       "627                   No           2              4.0         Green   \n",
       "628                   No           3              4.2         Green   \n",
       "\n",
       "     Rating text Votes No. of cuisines  \n",
       "624         Good   140               2  \n",
       "625         Good    71               2  \n",
       "626         Good    94               1  \n",
       "627    Very Good    87               1  \n",
       "628    Very Good   177               3  \n",
       "\n",
       "[5 rows x 22 columns]"
      ]
     },
     "execution_count": 219,
     "metadata": {},
     "output_type": "execute_result"
    }
   ],
   "source": [
    "data_rated_restaurants.head()"
   ]
  },
  {
   "cell_type": "markdown",
   "metadata": {},
   "source": [
    "Another important parameter to know the is number of footfalls of each restaurants. However what we have here is the number of reviewers which is only proportional to the total number of footfalls over a given duration. Since the duration during which the reviews were obtained are not given, we will assume this to be the same for all restaurants as of now to have a general idea about the number of people who visit the restaurant. The number of footfalls per restaurant should also depend on the population of the city in which the restaurant is located, the location itself, cuisine etc. Curiously enough a better aggregate rating should also contribute to the number of footfalls. "
   ]
  },
  {
   "cell_type": "code",
   "execution_count": 220,
   "metadata": {},
   "outputs": [
    {
     "data": {
      "text/plain": [
       "<matplotlib.axes._subplots.AxesSubplot at 0x1d4153e8278>"
      ]
     },
     "execution_count": 220,
     "metadata": {},
     "output_type": "execute_result"
    },
    {
     "data": {
      "image/png": "[encoded data removed]",
      "text/plain": [
       "<matplotlib.figure.Figure at 0x1d41524b240>"
      ]
     },
     "metadata": {},
     "output_type": "display_data"
    }
   ],
   "source": [
    "sns.barplot(x =\"Price range\", y = 'Votes', data= data_rated_restaurants, palette=\"Blues_d\" )"
   ]
  },
  {
   "cell_type": "markdown",
   "metadata": {},
   "source": [
    "The more pricier restaurants seems to have larger number of reviews which implies the pricier restaurants seems to have a better footfall. It might be also possible that people who visit these restaurants are more internet savvy and likely to leave a review. Let us look at the relation between average rating and number of votes:"
   ]
  },
  {
   "cell_type": "code",
   "execution_count": 221,
   "metadata": {},
   "outputs": [
    {
     "data": {
      "text/plain": [
       "<matplotlib.axes._subplots.AxesSubplot at 0x1d4153ffcf8>"
      ]
     },
     "execution_count": 221,
     "metadata": {},
     "output_type": "execute_result"
    },
    {
     "data": {
      "image/png": "[encoded data removed]",
      "text/plain": [
       "<matplotlib.figure.Figure at 0x1d4153cfef0>"
      ]
     },
     "metadata": {},
     "output_type": "display_data"
    }
   ],
   "source": [
    "sns.set(font_scale=1.5, rc={'figure.figsize':(12,6)})\n",
    "sns.barplot('Aggregate rating', 'Votes', data= data_rated_restaurants, palette=\"Blues_d\")"
   ]
  },
  {
   "cell_type": "markdown",
   "metadata": {},
   "source": [
    "The above plot shows that the average votes received are disproportionately higher in the case of restaurants with higher ratings. Also the variability of footfalls is also large for the highly rated restaurants. This might be because there might be new restaurants which has better aggregate rating. However since the data does not mention the period during which the restaurants were obtained this is just a speculation. The location of the restaurant, how easily it is accessible by public transport, the population density in the region where it is located, whether it is closer to the center of the city etc. will also similarly play a role in determining the number of footfalls."
   ]
  },
  {
   "cell_type": "code",
   "execution_count": 226,
   "metadata": {},
   "outputs": [
    {
     "data": {
      "text/plain": [
       "<matplotlib.axes._subplots.AxesSubplot at 0x1d415819c88>"
      ]
     },
     "execution_count": 226,
     "metadata": {},
     "output_type": "execute_result"
    },
    {
     "data": {
      "image/png": "[encoded data removed]",
      "text/plain": [
       "<matplotlib.figure.Figure at 0x1d4154e3080>"
      ]
     },
     "metadata": {},
     "output_type": "display_data"
    }
   ],
   "source": [
    "sns.distplot(data['Votes'])"
   ]
  },
  {
   "cell_type": "code",
   "execution_count": 225,
   "metadata": {},
   "outputs": [
    {
     "data": {
      "text/html": [
       "<div>\n",
       "<style scoped>\n",
       "    .dataframe tbody tr th:only-of-type {\n",
       "        vertical-align: middle;\n",
       "    }\n",
       "\n",
       "    .dataframe tbody tr th {\n",
       "        vertical-align: top;\n",
       "    }\n",
       "\n",
       "    .dataframe thead th {\n",
       "        text-align: right;\n",
       "    }\n",
       "</style>\n",
       "<table border=\"1\" class=\"dataframe\">\n",
       "  <thead>\n",
       "    <tr style=\"text-align: right;\">\n",
       "      <th></th>\n",
       "      <th>Restaurant ID</th>\n",
       "      <th>Restaurant Name</th>\n",
       "      <th>Country Code</th>\n",
       "      <th>City</th>\n",
       "      <th>Address</th>\n",
       "      <th>Locality</th>\n",
       "      <th>Locality Verbose</th>\n",
       "      <th>Longitude</th>\n",
       "      <th>Latitude</th>\n",
       "      <th>Cuisines</th>\n",
       "      <th>...</th>\n",
       "      <th>Has Table booking</th>\n",
       "      <th>Has Online delivery</th>\n",
       "      <th>Is delivering now</th>\n",
       "      <th>Switch to order menu</th>\n",
       "      <th>Price range</th>\n",
       "      <th>Aggregate rating</th>\n",
       "      <th>Rating color</th>\n",
       "      <th>Rating text</th>\n",
       "      <th>Votes</th>\n",
       "      <th>No. of cuisines</th>\n",
       "    </tr>\n",
       "  </thead>\n",
       "  <tbody>\n",
       "    <tr>\n",
       "      <th>1710</th>\n",
       "      <td>309030</td>\n",
       "      <td>Hong Kong Express</td>\n",
       "      <td>1</td>\n",
       "      <td>Gurgaon</td>\n",
       "      <td>2nd Floor, Raheja Mall, Sohna Road, Gurgaon</td>\n",
       "      <td>Raheja Mall, Sohna Road</td>\n",
       "      <td>Raheja Mall, Sohna Road, Gurgaon</td>\n",
       "      <td>77.039580</td>\n",
       "      <td>28.423423</td>\n",
       "      <td>Chinese, Thai</td>\n",
       "      <td>...</td>\n",
       "      <td>No</td>\n",
       "      <td>Yes</td>\n",
       "      <td>No</td>\n",
       "      <td>No</td>\n",
       "      <td>2</td>\n",
       "      <td>3.2</td>\n",
       "      <td>Orange</td>\n",
       "      <td>Average</td>\n",
       "      <td>100</td>\n",
       "      <td>2</td>\n",
       "    </tr>\n",
       "    <tr>\n",
       "      <th>2319</th>\n",
       "      <td>1400544</td>\n",
       "      <td>JAL - A Jungle Restaurant</td>\n",
       "      <td>1</td>\n",
       "      <td>Indore</td>\n",
       "      <td>Behind Pushp Kunj Hospital, Khandwa Road, Bhaw...</td>\n",
       "      <td>Bhawar Kuan</td>\n",
       "      <td>Bhawar Kuan, Indore</td>\n",
       "      <td>75.881991</td>\n",
       "      <td>22.651847</td>\n",
       "      <td>North Indian, Chinese</td>\n",
       "      <td>...</td>\n",
       "      <td>No</td>\n",
       "      <td>No</td>\n",
       "      <td>No</td>\n",
       "      <td>No</td>\n",
       "      <td>3</td>\n",
       "      <td>4.1</td>\n",
       "      <td>Green</td>\n",
       "      <td>Very Good</td>\n",
       "      <td>100</td>\n",
       "      <td>2</td>\n",
       "    </tr>\n",
       "    <tr>\n",
       "      <th>2538</th>\n",
       "      <td>3300070</td>\n",
       "      <td>Moksh The Restro Lounge</td>\n",
       "      <td>1</td>\n",
       "      <td>Nagpur</td>\n",
       "      <td>Panchshil Chowk, Sitabuldi, Nagpur</td>\n",
       "      <td>Sitabuldi</td>\n",
       "      <td>Sitabuldi, Nagpur</td>\n",
       "      <td>79.080094</td>\n",
       "      <td>21.140146</td>\n",
       "      <td>Seafood, Chinese, Thai</td>\n",
       "      <td>...</td>\n",
       "      <td>No</td>\n",
       "      <td>No</td>\n",
       "      <td>No</td>\n",
       "      <td>No</td>\n",
       "      <td>3</td>\n",
       "      <td>4.0</td>\n",
       "      <td>Green</td>\n",
       "      <td>Very Good</td>\n",
       "      <td>100</td>\n",
       "      <td>3</td>\n",
       "    </tr>\n",
       "    <tr>\n",
       "      <th>2622</th>\n",
       "      <td>7249</td>\n",
       "      <td>Alaturka</td>\n",
       "      <td>1</td>\n",
       "      <td>New Delhi</td>\n",
       "      <td>Food Court, 3rd Floor, Ambience Mall, Vasant K...</td>\n",
       "      <td>Ambience Mall, Vasant Kunj</td>\n",
       "      <td>Ambience Mall, Vasant Kunj, New Delhi</td>\n",
       "      <td>77.154985</td>\n",
       "      <td>28.541562</td>\n",
       "      <td>Turkish</td>\n",
       "      <td>...</td>\n",
       "      <td>No</td>\n",
       "      <td>Yes</td>\n",
       "      <td>No</td>\n",
       "      <td>No</td>\n",
       "      <td>2</td>\n",
       "      <td>2.5</td>\n",
       "      <td>Orange</td>\n",
       "      <td>Average</td>\n",
       "      <td>100</td>\n",
       "      <td>1</td>\n",
       "    </tr>\n",
       "    <tr>\n",
       "      <th>3458</th>\n",
       "      <td>9657</td>\n",
       "      <td>McDonald's</td>\n",
       "      <td>1</td>\n",
       "      <td>New Delhi</td>\n",
       "      <td>34, 102B, 109 &amp; 110, Ground/1st Floor, Multile...</td>\n",
       "      <td>DLF South Square, Sarojini Nagar</td>\n",
       "      <td>DLF South Square, Sarojini Nagar, New Delhi</td>\n",
       "      <td>77.194929</td>\n",
       "      <td>28.576014</td>\n",
       "      <td>Fast Food, Burger</td>\n",
       "      <td>...</td>\n",
       "      <td>No</td>\n",
       "      <td>Yes</td>\n",
       "      <td>No</td>\n",
       "      <td>No</td>\n",
       "      <td>2</td>\n",
       "      <td>3.5</td>\n",
       "      <td>Yellow</td>\n",
       "      <td>Good</td>\n",
       "      <td>100</td>\n",
       "      <td>2</td>\n",
       "    </tr>\n",
       "    <tr>\n",
       "      <th>3575</th>\n",
       "      <td>304913</td>\n",
       "      <td>Moti Mahal Delux</td>\n",
       "      <td>1</td>\n",
       "      <td>New Delhi</td>\n",
       "      <td>Lower Ground Floor,  Epicuria Food Mall, Nehru...</td>\n",
       "      <td>Epicuria Food Mall, Nehru Place</td>\n",
       "      <td>Epicuria Food Mall, Nehru Place, New Delhi</td>\n",
       "      <td>77.251426</td>\n",
       "      <td>28.551456</td>\n",
       "      <td>North Indian, Mughlai, Chinese</td>\n",
       "      <td>...</td>\n",
       "      <td>No</td>\n",
       "      <td>Yes</td>\n",
       "      <td>No</td>\n",
       "      <td>No</td>\n",
       "      <td>2</td>\n",
       "      <td>3.1</td>\n",
       "      <td>Orange</td>\n",
       "      <td>Average</td>\n",
       "      <td>100</td>\n",
       "      <td>3</td>\n",
       "    </tr>\n",
       "    <tr>\n",
       "      <th>4220</th>\n",
       "      <td>18219547</td>\n",
       "      <td>The Pindi</td>\n",
       "      <td>1</td>\n",
       "      <td>New Delhi</td>\n",
       "      <td>C-1/122, Janakpuri, New Delhi</td>\n",
       "      <td>Janakpuri</td>\n",
       "      <td>Janakpuri, New Delhi</td>\n",
       "      <td>77.080190</td>\n",
       "      <td>28.620389</td>\n",
       "      <td>North Indian, Chinese, Mughlai</td>\n",
       "      <td>...</td>\n",
       "      <td>Yes</td>\n",
       "      <td>Yes</td>\n",
       "      <td>No</td>\n",
       "      <td>No</td>\n",
       "      <td>3</td>\n",
       "      <td>3.5</td>\n",
       "      <td>Yellow</td>\n",
       "      <td>Good</td>\n",
       "      <td>100</td>\n",
       "      <td>3</td>\n",
       "    </tr>\n",
       "    <tr>\n",
       "      <th>4400</th>\n",
       "      <td>309238</td>\n",
       "      <td>Crispy Tokri</td>\n",
       "      <td>1</td>\n",
       "      <td>New Delhi</td>\n",
       "      <td>H-15B, Main Road,, Delhi, Kalkaji, New Delhi</td>\n",
       "      <td>Kalkaji</td>\n",
       "      <td>Kalkaji, New Delhi</td>\n",
       "      <td>77.258106</td>\n",
       "      <td>28.540245</td>\n",
       "      <td>Street Food</td>\n",
       "      <td>...</td>\n",
       "      <td>No</td>\n",
       "      <td>No</td>\n",
       "      <td>No</td>\n",
       "      <td>No</td>\n",
       "      <td>1</td>\n",
       "      <td>3.1</td>\n",
       "      <td>Orange</td>\n",
       "      <td>Average</td>\n",
       "      <td>100</td>\n",
       "      <td>1</td>\n",
       "    </tr>\n",
       "    <tr>\n",
       "      <th>4614</th>\n",
       "      <td>7526</td>\n",
       "      <td>Standard Burfee</td>\n",
       "      <td>1</td>\n",
       "      <td>New Delhi</td>\n",
       "      <td>2750/21, Ajmal Khan Road, Karol Bagh, New Delhi</td>\n",
       "      <td>Karol Bagh</td>\n",
       "      <td>Karol Bagh, New Delhi</td>\n",
       "      <td>77.192874</td>\n",
       "      <td>28.650730</td>\n",
       "      <td>Mithai, Street Food</td>\n",
       "      <td>...</td>\n",
       "      <td>No</td>\n",
       "      <td>No</td>\n",
       "      <td>No</td>\n",
       "      <td>No</td>\n",
       "      <td>1</td>\n",
       "      <td>3.8</td>\n",
       "      <td>Yellow</td>\n",
       "      <td>Good</td>\n",
       "      <td>100</td>\n",
       "      <td>2</td>\n",
       "    </tr>\n",
       "    <tr>\n",
       "      <th>4688</th>\n",
       "      <td>9549</td>\n",
       "      <td>Corner Sweets</td>\n",
       "      <td>1</td>\n",
       "      <td>New Delhi</td>\n",
       "      <td>2 &amp; 3, Corporation Market, Ramesh Nagar, Kirti...</td>\n",
       "      <td>Kirti Nagar</td>\n",
       "      <td>Kirti Nagar, New Delhi</td>\n",
       "      <td>77.133041</td>\n",
       "      <td>28.649376</td>\n",
       "      <td>Mithai, Street Food</td>\n",
       "      <td>...</td>\n",
       "      <td>No</td>\n",
       "      <td>No</td>\n",
       "      <td>No</td>\n",
       "      <td>No</td>\n",
       "      <td>1</td>\n",
       "      <td>3.2</td>\n",
       "      <td>Orange</td>\n",
       "      <td>Average</td>\n",
       "      <td>100</td>\n",
       "      <td>2</td>\n",
       "    </tr>\n",
       "    <tr>\n",
       "      <th>5161</th>\n",
       "      <td>18398602</td>\n",
       "      <td>Bhukkhar</td>\n",
       "      <td>1</td>\n",
       "      <td>New Delhi</td>\n",
       "      <td>T -7A, Opposite 90/14-A, Khirki Extension, Mal...</td>\n",
       "      <td>Malviya Nagar</td>\n",
       "      <td>Malviya Nagar, New Delhi</td>\n",
       "      <td>77.214436</td>\n",
       "      <td>28.534487</td>\n",
       "      <td>North Indian, Chinese, Mughlai</td>\n",
       "      <td>...</td>\n",
       "      <td>No</td>\n",
       "      <td>Yes</td>\n",
       "      <td>No</td>\n",
       "      <td>No</td>\n",
       "      <td>2</td>\n",
       "      <td>3.9</td>\n",
       "      <td>Yellow</td>\n",
       "      <td>Good</td>\n",
       "      <td>100</td>\n",
       "      <td>3</td>\n",
       "    </tr>\n",
       "    <tr>\n",
       "      <th>5338</th>\n",
       "      <td>311336</td>\n",
       "      <td>Veggie-Licious</td>\n",
       "      <td>1</td>\n",
       "      <td>New Delhi</td>\n",
       "      <td>G-6, GS Arcade, Pocket B, Behind State Bank of...</td>\n",
       "      <td>Mayur Vihar Phase 2</td>\n",
       "      <td>Mayur Vihar Phase 2, New Delhi</td>\n",
       "      <td>77.301157</td>\n",
       "      <td>28.619286</td>\n",
       "      <td>North Indian, Chinese, Continental, Fast Food</td>\n",
       "      <td>...</td>\n",
       "      <td>No</td>\n",
       "      <td>Yes</td>\n",
       "      <td>No</td>\n",
       "      <td>No</td>\n",
       "      <td>1</td>\n",
       "      <td>3.6</td>\n",
       "      <td>Yellow</td>\n",
       "      <td>Good</td>\n",
       "      <td>100</td>\n",
       "      <td>4</td>\n",
       "    </tr>\n",
       "    <tr>\n",
       "      <th>6316</th>\n",
       "      <td>302815</td>\n",
       "      <td>Babu Shahi Bawarchi</td>\n",
       "      <td>1</td>\n",
       "      <td>New Delhi</td>\n",
       "      <td>5, Darga Makta Peer, Pragati Maidan, New Delhi</td>\n",
       "      <td>Pragati Maidan</td>\n",
       "      <td>Pragati Maidan, New Delhi</td>\n",
       "      <td>77.240560</td>\n",
       "      <td>28.614329</td>\n",
       "      <td>Biryani</td>\n",
       "      <td>...</td>\n",
       "      <td>No</td>\n",
       "      <td>No</td>\n",
       "      <td>No</td>\n",
       "      <td>No</td>\n",
       "      <td>1</td>\n",
       "      <td>3.3</td>\n",
       "      <td>Orange</td>\n",
       "      <td>Average</td>\n",
       "      <td>100</td>\n",
       "      <td>1</td>\n",
       "    </tr>\n",
       "    <tr>\n",
       "      <th>6363</th>\n",
       "      <td>18222554</td>\n",
       "      <td>The Riding Guns Cafe</td>\n",
       "      <td>1</td>\n",
       "      <td>New Delhi</td>\n",
       "      <td>A Block Market, Preet Vihar, New Delhi</td>\n",
       "      <td>Preet Vihar</td>\n",
       "      <td>Preet Vihar, New Delhi</td>\n",
       "      <td>77.291233</td>\n",
       "      <td>28.634549</td>\n",
       "      <td>Cafe</td>\n",
       "      <td>...</td>\n",
       "      <td>No</td>\n",
       "      <td>No</td>\n",
       "      <td>No</td>\n",
       "      <td>No</td>\n",
       "      <td>2</td>\n",
       "      <td>3.6</td>\n",
       "      <td>Yellow</td>\n",
       "      <td>Good</td>\n",
       "      <td>100</td>\n",
       "      <td>1</td>\n",
       "    </tr>\n",
       "    <tr>\n",
       "      <th>7052</th>\n",
       "      <td>18312609</td>\n",
       "      <td>The Staircase Cafe by Doggy Style</td>\n",
       "      <td>1</td>\n",
       "      <td>New Delhi</td>\n",
       "      <td>Shop C-15, Mezzanine Floor, SDA, New Delhi</td>\n",
       "      <td>SDA</td>\n",
       "      <td>SDA, New Delhi</td>\n",
       "      <td>77.196726</td>\n",
       "      <td>28.546339</td>\n",
       "      <td>Continental, Italian</td>\n",
       "      <td>...</td>\n",
       "      <td>No</td>\n",
       "      <td>Yes</td>\n",
       "      <td>No</td>\n",
       "      <td>No</td>\n",
       "      <td>2</td>\n",
       "      <td>2.6</td>\n",
       "      <td>Orange</td>\n",
       "      <td>Average</td>\n",
       "      <td>100</td>\n",
       "      <td>2</td>\n",
       "    </tr>\n",
       "    <tr>\n",
       "      <th>7480</th>\n",
       "      <td>1900</td>\n",
       "      <td>The Oudh - The Ashok</td>\n",
       "      <td>1</td>\n",
       "      <td>New Delhi</td>\n",
       "      <td>The Ashok, 50-B, Diplomatic Enclave, Chanakyap...</td>\n",
       "      <td>The Ashok, Chanakyapuri</td>\n",
       "      <td>The Ashok, Chanakyapuri, New Delhi</td>\n",
       "      <td>77.195872</td>\n",
       "      <td>28.596312</td>\n",
       "      <td>North Indian</td>\n",
       "      <td>...</td>\n",
       "      <td>Yes</td>\n",
       "      <td>No</td>\n",
       "      <td>No</td>\n",
       "      <td>No</td>\n",
       "      <td>4</td>\n",
       "      <td>3.6</td>\n",
       "      <td>Yellow</td>\n",
       "      <td>Good</td>\n",
       "      <td>100</td>\n",
       "      <td>1</td>\n",
       "    </tr>\n",
       "  </tbody>\n",
       "</table>\n",
       "<p>16 rows × 22 columns</p>\n",
       "</div>"
      ],
      "text/plain": [
       "      Restaurant ID                    Restaurant Name  Country Code  \\\n",
       "1710         309030                  Hong Kong Express             1   \n",
       "2319        1400544          JAL - A Jungle Restaurant             1   \n",
       "2538        3300070            Moksh The Restro Lounge             1   \n",
       "2622           7249                           Alaturka             1   \n",
       "3458           9657                         McDonald's             1   \n",
       "3575         304913                   Moti Mahal Delux             1   \n",
       "4220       18219547                          The Pindi             1   \n",
       "4400         309238                       Crispy Tokri             1   \n",
       "4614           7526                    Standard Burfee             1   \n",
       "4688           9549                      Corner Sweets             1   \n",
       "5161       18398602                           Bhukkhar             1   \n",
       "5338         311336                     Veggie-Licious             1   \n",
       "6316         302815                Babu Shahi Bawarchi             1   \n",
       "6363       18222554               The Riding Guns Cafe             1   \n",
       "7052       18312609  The Staircase Cafe by Doggy Style             1   \n",
       "7480           1900               The Oudh - The Ashok             1   \n",
       "\n",
       "           City                                            Address  \\\n",
       "1710    Gurgaon        2nd Floor, Raheja Mall, Sohna Road, Gurgaon   \n",
       "2319     Indore  Behind Pushp Kunj Hospital, Khandwa Road, Bhaw...   \n",
       "2538     Nagpur                 Panchshil Chowk, Sitabuldi, Nagpur   \n",
       "2622  New Delhi  Food Court, 3rd Floor, Ambience Mall, Vasant K...   \n",
       "3458  New Delhi  34, 102B, 109 & 110, Ground/1st Floor, Multile...   \n",
       "3575  New Delhi  Lower Ground Floor,  Epicuria Food Mall, Nehru...   \n",
       "4220  New Delhi                      C-1/122, Janakpuri, New Delhi   \n",
       "4400  New Delhi       H-15B, Main Road,, Delhi, Kalkaji, New Delhi   \n",
       "4614  New Delhi    2750/21, Ajmal Khan Road, Karol Bagh, New Delhi   \n",
       "4688  New Delhi  2 & 3, Corporation Market, Ramesh Nagar, Kirti...   \n",
       "5161  New Delhi  T -7A, Opposite 90/14-A, Khirki Extension, Mal...   \n",
       "5338  New Delhi  G-6, GS Arcade, Pocket B, Behind State Bank of...   \n",
       "6316  New Delhi     5, Darga Makta Peer, Pragati Maidan, New Delhi   \n",
       "6363  New Delhi             A Block Market, Preet Vihar, New Delhi   \n",
       "7052  New Delhi         Shop C-15, Mezzanine Floor, SDA, New Delhi   \n",
       "7480  New Delhi  The Ashok, 50-B, Diplomatic Enclave, Chanakyap...   \n",
       "\n",
       "                              Locality  \\\n",
       "1710           Raheja Mall, Sohna Road   \n",
       "2319                       Bhawar Kuan   \n",
       "2538                         Sitabuldi   \n",
       "2622        Ambience Mall, Vasant Kunj   \n",
       "3458  DLF South Square, Sarojini Nagar   \n",
       "3575   Epicuria Food Mall, Nehru Place   \n",
       "4220                         Janakpuri   \n",
       "4400                           Kalkaji   \n",
       "4614                        Karol Bagh   \n",
       "4688                       Kirti Nagar   \n",
       "5161                     Malviya Nagar   \n",
       "5338               Mayur Vihar Phase 2   \n",
       "6316                    Pragati Maidan   \n",
       "6363                       Preet Vihar   \n",
       "7052                               SDA   \n",
       "7480           The Ashok, Chanakyapuri   \n",
       "\n",
       "                                 Locality Verbose  Longitude   Latitude  \\\n",
       "1710             Raheja Mall, Sohna Road, Gurgaon  77.039580  28.423423   \n",
       "2319                          Bhawar Kuan, Indore  75.881991  22.651847   \n",
       "2538                            Sitabuldi, Nagpur  79.080094  21.140146   \n",
       "2622        Ambience Mall, Vasant Kunj, New Delhi  77.154985  28.541562   \n",
       "3458  DLF South Square, Sarojini Nagar, New Delhi  77.194929  28.576014   \n",
       "3575   Epicuria Food Mall, Nehru Place, New Delhi  77.251426  28.551456   \n",
       "4220                         Janakpuri, New Delhi  77.080190  28.620389   \n",
       "4400                           Kalkaji, New Delhi  77.258106  28.540245   \n",
       "4614                        Karol Bagh, New Delhi  77.192874  28.650730   \n",
       "4688                       Kirti Nagar, New Delhi  77.133041  28.649376   \n",
       "5161                     Malviya Nagar, New Delhi  77.214436  28.534487   \n",
       "5338               Mayur Vihar Phase 2, New Delhi  77.301157  28.619286   \n",
       "6316                    Pragati Maidan, New Delhi  77.240560  28.614329   \n",
       "6363                       Preet Vihar, New Delhi  77.291233  28.634549   \n",
       "7052                               SDA, New Delhi  77.196726  28.546339   \n",
       "7480           The Ashok, Chanakyapuri, New Delhi  77.195872  28.596312   \n",
       "\n",
       "                                           Cuisines       ...        \\\n",
       "1710                                  Chinese, Thai       ...         \n",
       "2319                          North Indian, Chinese       ...         \n",
       "2538                         Seafood, Chinese, Thai       ...         \n",
       "2622                                        Turkish       ...         \n",
       "3458                              Fast Food, Burger       ...         \n",
       "3575                 North Indian, Mughlai, Chinese       ...         \n",
       "4220                 North Indian, Chinese, Mughlai       ...         \n",
       "4400                                    Street Food       ...         \n",
       "4614                            Mithai, Street Food       ...         \n",
       "4688                            Mithai, Street Food       ...         \n",
       "5161                 North Indian, Chinese, Mughlai       ...         \n",
       "5338  North Indian, Chinese, Continental, Fast Food       ...         \n",
       "6316                                        Biryani       ...         \n",
       "6363                                           Cafe       ...         \n",
       "7052                           Continental, Italian       ...         \n",
       "7480                                   North Indian       ...         \n",
       "\n",
       "      Has Table booking Has Online delivery Is delivering now  \\\n",
       "1710                 No                 Yes                No   \n",
       "2319                 No                  No                No   \n",
       "2538                 No                  No                No   \n",
       "2622                 No                 Yes                No   \n",
       "3458                 No                 Yes                No   \n",
       "3575                 No                 Yes                No   \n",
       "4220                Yes                 Yes                No   \n",
       "4400                 No                  No                No   \n",
       "4614                 No                  No                No   \n",
       "4688                 No                  No                No   \n",
       "5161                 No                 Yes                No   \n",
       "5338                 No                 Yes                No   \n",
       "6316                 No                  No                No   \n",
       "6363                 No                  No                No   \n",
       "7052                 No                 Yes                No   \n",
       "7480                Yes                  No                No   \n",
       "\n",
       "     Switch to order menu Price range Aggregate rating  Rating color  \\\n",
       "1710                   No           2              3.2        Orange   \n",
       "2319                   No           3              4.1         Green   \n",
       "2538                   No           3              4.0         Green   \n",
       "2622                   No           2              2.5        Orange   \n",
       "3458                   No           2              3.5        Yellow   \n",
       "3575                   No           2              3.1        Orange   \n",
       "4220                   No           3              3.5        Yellow   \n",
       "4400                   No           1              3.1        Orange   \n",
       "4614                   No           1              3.8        Yellow   \n",
       "4688                   No           1              3.2        Orange   \n",
       "5161                   No           2              3.9        Yellow   \n",
       "5338                   No           1              3.6        Yellow   \n",
       "6316                   No           1              3.3        Orange   \n",
       "6363                   No           2              3.6        Yellow   \n",
       "7052                   No           2              2.6        Orange   \n",
       "7480                   No           4              3.6        Yellow   \n",
       "\n",
       "      Rating text Votes No. of cuisines  \n",
       "1710      Average   100               2  \n",
       "2319    Very Good   100               2  \n",
       "2538    Very Good   100               3  \n",
       "2622      Average   100               1  \n",
       "3458         Good   100               2  \n",
       "3575      Average   100               3  \n",
       "4220         Good   100               3  \n",
       "4400      Average   100               1  \n",
       "4614         Good   100               2  \n",
       "4688      Average   100               2  \n",
       "5161         Good   100               3  \n",
       "5338         Good   100               4  \n",
       "6316      Average   100               1  \n",
       "6363         Good   100               1  \n",
       "7052      Average   100               2  \n",
       "7480         Good   100               1  \n",
       "\n",
       "[16 rows x 22 columns]"
      ]
     },
     "execution_count": 225,
     "metadata": {},
     "output_type": "execute_result"
    }
   ],
   "source": [
    "data_rated_restaurants[data_rated_restaurants['Votes'] == 100]"
   ]
  },
  {
   "cell_type": "code",
   "execution_count": null,
   "metadata": {
    "collapsed": true
   },
   "outputs": [],
   "source": []
  },
  {
   "cell_type": "code",
   "execution_count": null,
   "metadata": {
    "collapsed": true
   },
   "outputs": [],
   "source": []
  },
  {
   "cell_type": "markdown",
   "metadata": {},
   "source": [
    "### Cities \n",
    "It would also be interesting to know the cities in India where these restaurants are located. "
   ]
  },
  {
   "cell_type": "code",
   "execution_count": 187,
   "metadata": {},
   "outputs": [
    {
     "name": "stdout",
     "output_type": "stream",
     "text": [
      "['Agra' 'Ahmedabad' 'Allahabad' 'Amritsar' 'Aurangabad' 'Bangalore'\n",
      " 'Bhopal' 'Bhubaneshwar' 'Chandigarh' 'Chennai' 'Coimbatore' 'Dehradun'\n",
      " 'Faridabad' 'Ghaziabad' 'Goa' 'Gurgaon' 'Guwahati' 'Hyderabad' 'Indore'\n",
      " 'Jaipur' 'Kanpur' 'Kochi' 'Kolkata' 'Lucknow' 'Ludhiana' 'Mangalore'\n",
      " 'Mohali' 'Mumbai' 'Mysore' 'Nagpur' 'Nashik' 'New Delhi' 'Noida'\n",
      " 'Panchkula' 'Patna' 'Puducherry' 'Pune' 'Ranchi' 'Secunderabad' 'Surat'\n",
      " 'Vadodara' 'Varanasi' 'Vizag']\n",
      "43\n"
     ]
    }
   ],
   "source": [
    "print(data_modified['City'].unique())\n",
    "print(data_modified['City'].nunique())"
   ]
  },
  {
   "cell_type": "code",
   "execution_count": null,
   "metadata": {
    "collapsed": true
   },
   "outputs": [],
   "source": []
  },
  {
   "cell_type": "markdown",
   "metadata": {},
   "source": [
    "### Most Popular cuisines"
   ]
  },
  {
   "cell_type": "markdown",
   "metadata": {},
   "source": [
    "In the above restaurants we have both single cuisine and multi-cuisine restaurants. We first need to make the list of all available cuisines across all restaurants. I will try to generate the list of cuisines that are provided by all the restaurants above."
   ]
  },
  {
   "cell_type": "code",
   "execution_count": 176,
   "metadata": {},
   "outputs": [
    {
     "data": {
      "text/plain": [
       "8652"
      ]
     },
     "execution_count": 176,
     "metadata": {},
     "output_type": "execute_result"
    }
   ],
   "source": [
    "cuisine = []\n",
    "list_of_cuisines = data_modified.iloc[:,9]\n",
    "len(list_of_cuisines)"
   ]
  },
  {
   "cell_type": "code",
   "execution_count": 181,
   "metadata": {},
   "outputs": [],
   "source": [
    "for x in list_of_cuisines:\n",
    "    y = x.split(', ')\n",
    "    for i in y:\n",
    "        if not(i in cuisine):\n",
    "            cuisine.append(i)\n",
    "        else:\n",
    "            pass\n",
    "        "
   ]
  },
  {
   "cell_type": "code",
   "execution_count": 185,
   "metadata": {},
   "outputs": [
    {
     "name": "stdout",
     "output_type": "stream",
     "text": [
      "['North Indian', 'Mughlai', 'Rajasthani', 'Chinese', 'European', 'Gujarati', 'Continental', 'South Indian', 'Desserts', 'Cafe', 'Italian', 'Mexican', 'Pizza', 'Fast Food', 'Mediterranean', 'Thai', 'Ice Cream', 'Beverages', 'Asian', 'Street Food', 'Sandwich', 'Burger', 'Healthy Food', 'American', 'Armenian', 'Salad', 'Bakery', 'Mithai', 'Biryani', 'Juices', 'Maharashtrian', 'Hyderabadi', 'Modern Indian', 'Finger Food', 'Tex-Mex', 'Arabian', 'Charcoal Grill', 'Steak', 'Seafood', 'Tea', 'Japanese', 'Malaysian', 'Burmese', 'Chettinad', 'Spanish', 'Greek', 'Indian', 'Parsi', 'Tibetan', 'Raw Meats', 'French', 'Goan', 'German', 'Kerala', 'Lebanese', 'Belgian', 'Kashmiri', 'Sushi', 'South American', 'Persian', 'Bengali', 'Portuguese', 'African', 'Iranian', 'Vietnamese', 'Lucknowi', 'Korean', 'Awadhi', 'Nepalese', 'Drinks Only', 'Pakistani', 'North Eastern', 'Oriya', 'Bihari', 'Afghani', 'Middle Eastern', 'Indonesian', 'Assamese', 'Andhra', 'Mangalorean', 'British', 'Malwani', 'Cuisine Varies', 'Turkish', 'Moroccan', 'Naga', 'Deli', 'Sri Lankan', 'BBQ', 'Cajun'] total no. of cuisines 90\n"
     ]
    }
   ],
   "source": [
    "print(cuisine, 'total no. of cuisines {}'.format(len(cuisine)))"
   ]
  },
  {
   "cell_type": "markdown",
   "metadata": {},
   "source": [
    "Above you can see the list of all cuisines that are served by the restaurants that have been rated by Zomato. There are in total 90 types of cuisines available in total. It would be really interesting to see which cuisines are the most popular among restaurant goers according to Zomato. This is a little challenging as seen from the analysis before as the most popular restaurants are most likely a multi-cuisine restaurant. It is most likely that a combination of particular cuisines seems to be the key to a successful rating. It is also possible that the popular multi-cuisine restaurants have one or two common cuisines. I will try to find the three most popular cuisines among the highly rated restaurants."
   ]
  },
  {
   "cell_type": "code",
   "execution_count": null,
   "metadata": {
    "collapsed": true
   },
   "outputs": [],
   "source": []
  }
 ],
 "metadata": {
  "kernelspec": {
   "display_name": "Python 3",
   "language": "python",
   "name": "python3"
  },
  "language_info": {
   "codemirror_mode": {
    "name": "ipython",
    "version": 3
   },
   "file_extension": ".py",
   "mimetype": "text/x-python",
   "name": "python",
   "nbconvert_exporter": "python",
   "pygments_lexer": "ipython3",
   "version": "3.6.3"
  }
 },
 "nbformat": 4,
 "nbformat_minor": 2
}
